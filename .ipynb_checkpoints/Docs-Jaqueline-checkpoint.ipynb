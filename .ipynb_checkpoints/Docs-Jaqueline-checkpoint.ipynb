{
 "cells": [
  {
   "cell_type": "markdown",
   "id": "4aa6ef2a",
   "metadata": {},
   "source": [
    "# Lendo arquivo PDF"
   ]
  },
  {
   "cell_type": "code",
   "execution_count": 1,
   "id": "81c2d102",
   "metadata": {},
   "outputs": [],
   "source": [
    "# Import the PDFReader and DocumentParser objects\n",
    "from botcity.document_processing import *"
   ]
  },
  {
   "cell_type": "code",
   "execution_count": 2,
   "id": "32da41e8",
   "metadata": {},
   "outputs": [],
   "source": [
    "arquivo = \"Curso IE.PDF\""
   ]
  },
  {
   "cell_type": "code",
   "execution_count": 6,
   "id": "777addb7",
   "metadata": {},
   "outputs": [
    {
     "ename": "NameError",
     "evalue": "name 'PDFReader' is not defined",
     "output_type": "error",
     "traceback": [
      "\u001b[1;31m---------------------------------------------------------------------------\u001b[0m",
      "\u001b[1;31mNameError\u001b[0m                                 Traceback (most recent call last)",
      "Input \u001b[1;32mIn [6]\u001b[0m, in \u001b[0;36m<cell line: 2>\u001b[1;34m()\u001b[0m\n\u001b[0;32m      1\u001b[0m \u001b[38;5;66;03m# Read file and get parser\u001b[39;00m\n\u001b[1;32m----> 2\u001b[0m parser \u001b[38;5;241m=\u001b[39m \u001b[43mPDFReader\u001b[49m()\u001b[38;5;241m.\u001b[39mread_file(arquivo)\n",
      "\u001b[1;31mNameError\u001b[0m: name 'PDFReader' is not defined"
     ]
    }
   ],
   "source": [
    "# Read file and get parser\n",
    "parser = PDFReader().read_file(arquivo)"
   ]
  },
  {
   "cell_type": "code",
   "execution_count": 5,
   "id": "277b7664",
   "metadata": {},
   "outputs": [
    {
     "ename": "NameError",
     "evalue": "name 'parser' is not defined",
     "output_type": "error",
     "traceback": [
      "\u001b[1;31m---------------------------------------------------------------------------\u001b[0m",
      "\u001b[1;31mNameError\u001b[0m                                 Traceback (most recent call last)",
      "Input \u001b[1;32mIn [5]\u001b[0m, in \u001b[0;36m<cell line: 1>\u001b[1;34m()\u001b[0m\n\u001b[1;32m----> 1\u001b[0m texto \u001b[38;5;241m=\u001b[39m \u001b[43mparser\u001b[49m\u001b[38;5;241m.\u001b[39mget_full_text()\n",
      "\u001b[1;31mNameError\u001b[0m: name 'parser' is not defined"
     ]
    }
   ],
   "source": [
    "texto = parser.get_full_text()"
   ]
  },
  {
   "cell_type": "code",
   "execution_count": 3,
   "id": "33dc4df5",
   "metadata": {},
   "outputs": [
    {
     "ename": "NameError",
     "evalue": "name 'texto' is not defined",
     "output_type": "error",
     "traceback": [
      "\u001b[1;31m---------------------------------------------------------------------------\u001b[0m",
      "\u001b[1;31mNameError\u001b[0m                                 Traceback (most recent call last)",
      "Input \u001b[1;32mIn [3]\u001b[0m, in \u001b[0;36m<cell line: 1>\u001b[1;34m()\u001b[0m\n\u001b[1;32m----> 1\u001b[0m \u001b[38;5;28mprint\u001b[39m(\u001b[43mtexto\u001b[49m)\n",
      "\u001b[1;31mNameError\u001b[0m: name 'texto' is not defined"
     ]
    }
   ],
   "source": [
    "print(texto)"
   ]
  },
  {
   "cell_type": "markdown",
   "id": "785c53e4",
   "metadata": {},
   "source": [
    "# Procurando uma Entrada com BotCity Docs"
   ]
  },
  {
   "cell_type": "code",
   "execution_count": 14,
   "id": "d43a90bb",
   "metadata": {},
   "outputs": [
    {
     "data": {
      "text/plain": [
       "True"
      ]
     },
     "execution_count": 14,
     "metadata": {},
     "output_type": "execute_result"
    }
   ],
   "source": [
    "parser.get_first_entry(\"CRF\") is not None"
   ]
  },
  {
   "cell_type": "markdown",
   "id": "8922f5ce",
   "metadata": {},
   "source": [
    "# Procurando uma Entrada com BotCity Utils - StringParser"
   ]
  },
  {
   "cell_type": "code",
   "execution_count": 15,
   "id": "68eb1d60",
   "metadata": {},
   "outputs": [],
   "source": [
    "from botcity.utils.parser import StringParser"
   ]
  },
  {
   "cell_type": "code",
   "execution_count": 16,
   "id": "5fc9fcd4",
   "metadata": {},
   "outputs": [],
   "source": [
    "text_parser = StringParser(texto)"
   ]
  },
  {
   "cell_type": "code",
   "execution_count": 17,
   "id": "330a3d66",
   "metadata": {},
   "outputs": [
    {
     "data": {
      "text/plain": [
       "222"
      ]
     },
     "execution_count": 17,
     "metadata": {},
     "output_type": "execute_result"
    }
   ],
   "source": [
    "text_parser.goto_tag_start(\"CRF\").curr_position"
   ]
  },
  {
   "cell_type": "markdown",
   "id": "5941dcb7",
   "metadata": {},
   "source": [
    "# Procurando uma Entrada com Python Puro"
   ]
  },
  {
   "cell_type": "code",
   "execution_count": 18,
   "id": "00a0543f",
   "metadata": {},
   "outputs": [
    {
     "data": {
      "text/plain": [
       "True"
      ]
     },
     "execution_count": 18,
     "metadata": {},
     "output_type": "execute_result"
    }
   ],
   "source": [
    "\"CRF\".lower() in texto.lower()"
   ]
  },
  {
   "cell_type": "code",
   "execution_count": null,
   "id": "6373f1b8",
   "metadata": {},
   "outputs": [],
   "source": []
  }
 ],
 "metadata": {
  "kernelspec": {
   "display_name": "Python 3 (ipykernel)",
   "language": "python",
   "name": "python3"
  },
  "language_info": {
   "codemirror_mode": {
    "name": "ipython",
    "version": 3
   },
   "file_extension": ".py",
   "mimetype": "text/x-python",
   "name": "python",
   "nbconvert_exporter": "python",
   "pygments_lexer": "ipython3",
   "version": "3.9.12"
  }
 },
 "nbformat": 4,
 "nbformat_minor": 5
}
